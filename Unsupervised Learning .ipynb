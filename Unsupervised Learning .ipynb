{
 "cells": [
  {
   "cell_type": "markdown",
   "id": "b0325387",
   "metadata": {},
   "source": [
    "# Facebook Live Selling Unsupervised Learning"
   ]
  },
  {
   "cell_type": "markdown",
   "id": "b26b7da8",
   "metadata": {},
   "source": [
    "## Task one: Data Loading and Data Analysis"
   ]
  },
  {
   "cell_type": "code",
   "execution_count": 2,
   "id": "4610f659",
   "metadata": {},
   "outputs": [],
   "source": [
    "# import libraries\n",
    "import pandas as pd\n",
    "import numpy as np\n",
    "from matplotlib import pyplot as plt\n",
    "import seaborn as sns\n",
    "\n",
    "#ignore warnings\n",
    "import warnings\n",
    "warnings.filterwarnings('ignore')"
   ]
  },
  {
   "cell_type": "code",
   "execution_count": 3,
   "id": "4cd8c828",
   "metadata": {},
   "outputs": [],
   "source": [
    "#load dataset\n",
    "df=pd.read_csv('https://archive.ics.uci.edu/ml/machine-learning-databases/00488/Live_20210128.csv')"
   ]
  },
  {
   "cell_type": "code",
   "execution_count": 4,
   "id": "15c50794",
   "metadata": {},
   "outputs": [
    {
     "data": {
      "text/html": [
       "<div>\n",
       "<style scoped>\n",
       "    .dataframe tbody tr th:only-of-type {\n",
       "        vertical-align: middle;\n",
       "    }\n",
       "\n",
       "    .dataframe tbody tr th {\n",
       "        vertical-align: top;\n",
       "    }\n",
       "\n",
       "    .dataframe thead th {\n",
       "        text-align: right;\n",
       "    }\n",
       "</style>\n",
       "<table border=\"1\" class=\"dataframe\">\n",
       "  <thead>\n",
       "    <tr style=\"text-align: right;\">\n",
       "      <th></th>\n",
       "      <th>status_id</th>\n",
       "      <th>status_type</th>\n",
       "      <th>status_published</th>\n",
       "      <th>num_reactions</th>\n",
       "      <th>num_comments</th>\n",
       "      <th>num_shares</th>\n",
       "      <th>num_likes</th>\n",
       "      <th>num_loves</th>\n",
       "      <th>num_wows</th>\n",
       "      <th>num_hahas</th>\n",
       "      <th>num_sads</th>\n",
       "      <th>num_angrys</th>\n",
       "      <th>Column1</th>\n",
       "      <th>Column2</th>\n",
       "      <th>Column3</th>\n",
       "      <th>Column4</th>\n",
       "    </tr>\n",
       "  </thead>\n",
       "  <tbody>\n",
       "    <tr>\n",
       "      <th>0</th>\n",
       "      <td>1</td>\n",
       "      <td>video</td>\n",
       "      <td>4/22/2018 6:00</td>\n",
       "      <td>529</td>\n",
       "      <td>512</td>\n",
       "      <td>262</td>\n",
       "      <td>432</td>\n",
       "      <td>92</td>\n",
       "      <td>3</td>\n",
       "      <td>1</td>\n",
       "      <td>1</td>\n",
       "      <td>0</td>\n",
       "      <td>NaN</td>\n",
       "      <td>NaN</td>\n",
       "      <td>NaN</td>\n",
       "      <td>NaN</td>\n",
       "    </tr>\n",
       "    <tr>\n",
       "      <th>1</th>\n",
       "      <td>2</td>\n",
       "      <td>photo</td>\n",
       "      <td>4/21/2018 22:45</td>\n",
       "      <td>150</td>\n",
       "      <td>0</td>\n",
       "      <td>0</td>\n",
       "      <td>150</td>\n",
       "      <td>0</td>\n",
       "      <td>0</td>\n",
       "      <td>0</td>\n",
       "      <td>0</td>\n",
       "      <td>0</td>\n",
       "      <td>NaN</td>\n",
       "      <td>NaN</td>\n",
       "      <td>NaN</td>\n",
       "      <td>NaN</td>\n",
       "    </tr>\n",
       "    <tr>\n",
       "      <th>2</th>\n",
       "      <td>3</td>\n",
       "      <td>video</td>\n",
       "      <td>4/21/2018 6:17</td>\n",
       "      <td>227</td>\n",
       "      <td>236</td>\n",
       "      <td>57</td>\n",
       "      <td>204</td>\n",
       "      <td>21</td>\n",
       "      <td>1</td>\n",
       "      <td>1</td>\n",
       "      <td>0</td>\n",
       "      <td>0</td>\n",
       "      <td>NaN</td>\n",
       "      <td>NaN</td>\n",
       "      <td>NaN</td>\n",
       "      <td>NaN</td>\n",
       "    </tr>\n",
       "    <tr>\n",
       "      <th>3</th>\n",
       "      <td>4</td>\n",
       "      <td>photo</td>\n",
       "      <td>4/21/2018 2:29</td>\n",
       "      <td>111</td>\n",
       "      <td>0</td>\n",
       "      <td>0</td>\n",
       "      <td>111</td>\n",
       "      <td>0</td>\n",
       "      <td>0</td>\n",
       "      <td>0</td>\n",
       "      <td>0</td>\n",
       "      <td>0</td>\n",
       "      <td>NaN</td>\n",
       "      <td>NaN</td>\n",
       "      <td>NaN</td>\n",
       "      <td>NaN</td>\n",
       "    </tr>\n",
       "    <tr>\n",
       "      <th>4</th>\n",
       "      <td>5</td>\n",
       "      <td>photo</td>\n",
       "      <td>4/18/2018 3:22</td>\n",
       "      <td>213</td>\n",
       "      <td>0</td>\n",
       "      <td>0</td>\n",
       "      <td>204</td>\n",
       "      <td>9</td>\n",
       "      <td>0</td>\n",
       "      <td>0</td>\n",
       "      <td>0</td>\n",
       "      <td>0</td>\n",
       "      <td>NaN</td>\n",
       "      <td>NaN</td>\n",
       "      <td>NaN</td>\n",
       "      <td>NaN</td>\n",
       "    </tr>\n",
       "  </tbody>\n",
       "</table>\n",
       "</div>"
      ],
      "text/plain": [
       "   status_id status_type status_published  num_reactions  num_comments  \\\n",
       "0          1       video   4/22/2018 6:00            529           512   \n",
       "1          2       photo  4/21/2018 22:45            150             0   \n",
       "2          3       video   4/21/2018 6:17            227           236   \n",
       "3          4       photo   4/21/2018 2:29            111             0   \n",
       "4          5       photo   4/18/2018 3:22            213             0   \n",
       "\n",
       "   num_shares  num_likes  num_loves  num_wows  num_hahas  num_sads  \\\n",
       "0         262        432         92         3          1         1   \n",
       "1           0        150          0         0          0         0   \n",
       "2          57        204         21         1          1         0   \n",
       "3           0        111          0         0          0         0   \n",
       "4           0        204          9         0          0         0   \n",
       "\n",
       "   num_angrys  Column1  Column2  Column3  Column4  \n",
       "0           0      NaN      NaN      NaN      NaN  \n",
       "1           0      NaN      NaN      NaN      NaN  \n",
       "2           0      NaN      NaN      NaN      NaN  \n",
       "3           0      NaN      NaN      NaN      NaN  \n",
       "4           0      NaN      NaN      NaN      NaN  "
      ]
     },
     "execution_count": 4,
     "metadata": {},
     "output_type": "execute_result"
    }
   ],
   "source": [
    "#display first five observations\n",
    "df.head()"
   ]
  },
  {
   "cell_type": "code",
   "execution_count": 5,
   "id": "0847f77b",
   "metadata": {},
   "outputs": [
    {
     "name": "stdout",
     "output_type": "stream",
     "text": [
      "Summary of the data\n",
      "<class 'pandas.core.frame.DataFrame'>\n",
      "RangeIndex: 7050 entries, 0 to 7049\n",
      "Data columns (total 16 columns):\n",
      " #   Column            Non-Null Count  Dtype  \n",
      "---  ------            --------------  -----  \n",
      " 0   status_id         7050 non-null   int64  \n",
      " 1   status_type       7050 non-null   object \n",
      " 2   status_published  7050 non-null   object \n",
      " 3   num_reactions     7050 non-null   int64  \n",
      " 4   num_comments      7050 non-null   int64  \n",
      " 5   num_shares        7050 non-null   int64  \n",
      " 6   num_likes         7050 non-null   int64  \n",
      " 7   num_loves         7050 non-null   int64  \n",
      " 8   num_wows          7050 non-null   int64  \n",
      " 9   num_hahas         7050 non-null   int64  \n",
      " 10  num_sads          7050 non-null   int64  \n",
      " 11  num_angrys        7050 non-null   int64  \n",
      " 12  Column1           0 non-null      float64\n",
      " 13  Column2           0 non-null      float64\n",
      " 14  Column3           0 non-null      float64\n",
      " 15  Column4           0 non-null      float64\n",
      "dtypes: float64(4), int64(10), object(2)\n",
      "memory usage: 881.4+ KB\n"
     ]
    }
   ],
   "source": [
    "#print summary \n",
    "print('Summary of the data')\n",
    "df.info()"
   ]
  },
  {
   "cell_type": "markdown",
   "id": "a54983eb",
   "metadata": {},
   "source": [
    "We can observe that there are 7050 instances and 16 variables in the dataset. Two variables have character as their data types( object),10 variables have integers as their datatypes(int64),the last four have float(float64),however they are null. Now that we have identified the null colums we will eliminate them in the next section."
   ]
  },
  {
   "cell_type": "markdown",
   "id": "bf61077d",
   "metadata": {},
   "source": [
    "### Exploratory data analysis"
   ]
  },
  {
   "cell_type": "code",
   "execution_count": 6,
   "id": "c13d9f2d",
   "metadata": {},
   "outputs": [],
   "source": [
    "#drop columns with missing variables\n",
    "drop_columns=df.columns[12:].tolist()\n",
    "df.drop(columns=drop_columns,axis=1,inplace=True)"
   ]
  },
  {
   "cell_type": "code",
   "execution_count": 7,
   "id": "e740115a",
   "metadata": {},
   "outputs": [],
   "source": [
    "#drop status id and status published\n",
    "df.drop(columns=['status_id','status_published'],axis=1,inplace=True)"
   ]
  },
  {
   "cell_type": "code",
   "execution_count": 8,
   "id": "85185d94",
   "metadata": {},
   "outputs": [
    {
     "data": {
      "text/plain": [
       "status_type      0\n",
       "num_reactions    0\n",
       "num_comments     0\n",
       "num_shares       0\n",
       "num_likes        0\n",
       "num_loves        0\n",
       "num_wows         0\n",
       "num_hahas        0\n",
       "num_sads         0\n",
       "num_angrys       0\n",
       "dtype: int64"
      ]
     },
     "execution_count": 8,
     "metadata": {},
     "output_type": "execute_result"
    }
   ],
   "source": [
    "#check our dataset\n",
    "df.isnull().sum()"
   ]
  },
  {
   "cell_type": "code",
   "execution_count": 9,
   "id": "584871c2",
   "metadata": {},
   "outputs": [
    {
     "name": "stdout",
     "output_type": "stream",
     "text": [
      "<class 'pandas.core.frame.DataFrame'>\n",
      "RangeIndex: 7050 entries, 0 to 7049\n",
      "Data columns (total 10 columns):\n",
      " #   Column         Non-Null Count  Dtype \n",
      "---  ------         --------------  ----- \n",
      " 0   status_type    7050 non-null   object\n",
      " 1   num_reactions  7050 non-null   int64 \n",
      " 2   num_comments   7050 non-null   int64 \n",
      " 3   num_shares     7050 non-null   int64 \n",
      " 4   num_likes      7050 non-null   int64 \n",
      " 5   num_loves      7050 non-null   int64 \n",
      " 6   num_wows       7050 non-null   int64 \n",
      " 7   num_hahas      7050 non-null   int64 \n",
      " 8   num_sads       7050 non-null   int64 \n",
      " 9   num_angrys     7050 non-null   int64 \n",
      "dtypes: int64(9), object(1)\n",
      "memory usage: 550.9+ KB\n"
     ]
    }
   ],
   "source": [
    "#check our dataset once again\n",
    "df.info()"
   ]
  },
  {
   "cell_type": "markdown",
   "id": "d8ca587a",
   "metadata": {},
   "source": [
    "We can see that our redundant columns have been eliminated. Now our dataset has 1 character variable(data type=object) and 9 numerical variables(data type=int64)"
   ]
  },
  {
   "cell_type": "code",
   "execution_count": 10,
   "id": "af2715a2",
   "metadata": {},
   "outputs": [
    {
     "data": {
      "text/plain": [
       "status_type         4\n",
       "num_reactions    1067\n",
       "num_comments      993\n",
       "num_shares        501\n",
       "num_likes        1044\n",
       "num_loves         229\n",
       "num_wows           65\n",
       "num_hahas          42\n",
       "num_sads           24\n",
       "num_angrys         14\n",
       "dtype: int64"
      ]
     },
     "execution_count": 10,
     "metadata": {},
     "output_type": "execute_result"
    }
   ],
   "source": [
    "#check for uniqueness of data\n",
    "df.nunique()"
   ]
  },
  {
   "cell_type": "code",
   "execution_count": 11,
   "id": "de9d7553",
   "metadata": {},
   "outputs": [
    {
     "data": {
      "text/plain": [
       "array(['video', 'photo', 'link', 'status'], dtype=object)"
      ]
     },
     "execution_count": 11,
     "metadata": {},
     "output_type": "execute_result"
    }
   ],
   "source": [
    "df.status_type.unique()"
   ]
  },
  {
   "cell_type": "code",
   "execution_count": 12,
   "id": "2ae3460d",
   "metadata": {},
   "outputs": [
    {
     "data": {
      "text/plain": [
       "[Text(0.5, 0, 'Status Type'), Text(0, 0.5, 'Count')]"
      ]
     },
     "execution_count": 12,
     "metadata": {},
     "output_type": "execute_result"
    },
    {
     "data": {
      "image/png": "[encoded data removed]",
      "text/plain": [
       "<Figure size 720x360 with 1 Axes>"
      ]
     },
     "metadata": {
      "needs_background": "light"
     },
     "output_type": "display_data"
    }
   ],
   "source": [
    "g=df.status_type.value_counts().plot(kind='bar',figsize=(10,5),title='Count of status type')\n",
    "g.set(xlabel='Status Type',ylabel='Count')"
   ]
  },
  {
   "cell_type": "markdown",
   "id": "f3cb3734",
   "metadata": {},
   "source": [
    "From the graph ,it appears that most of the sellers seem to be using photo or video as status for selling. A very small sellers depend on status or link for posting an advertisement."
   ]
  },
  {
   "cell_type": "code",
   "execution_count": 86,
   "id": "6ff391c5",
   "metadata": {},
   "outputs": [],
   "source": [
    "#Declaring feature vector and target variable\n",
    "X=df[df.columns[1:].tolist()]\n",
    "y=df['status_type']"
   ]
  },
  {
   "cell_type": "code",
   "execution_count": 87,
   "id": "0030731c",
   "metadata": {},
   "outputs": [],
   "source": [
    "#Label encode status type\n",
    "from sklearn.preprocessing import LabelEncoder\n",
    "l=LabelEncoder()\n",
    "y=l.fit_transform(y)"
   ]
  },
  {
   "cell_type": "code",
   "execution_count": 15,
   "id": "7285763b",
   "metadata": {},
   "outputs": [
    {
     "data": {
      "text/plain": [
       "array([3, 1, 3, ..., 1, 1, 1])"
      ]
     },
     "execution_count": 15,
     "metadata": {},
     "output_type": "execute_result"
    }
   ],
   "source": [
    "#having a view of status type\n",
    "y"
   ]
  },
  {
   "cell_type": "markdown",
   "id": "b93f60ad",
   "metadata": {},
   "source": [
    "## Task two :Feature Scaling"
   ]
  },
  {
   "cell_type": "code",
   "execution_count": 16,
   "id": "621341b5",
   "metadata": {},
   "outputs": [],
   "source": [
    "#feature scaling\n",
    "from sklearn.preprocessing import MinMaxScaler"
   ]
  },
  {
   "cell_type": "code",
   "execution_count": 88,
   "id": "bf05ca75",
   "metadata": {},
   "outputs": [],
   "source": [
    "X=MinMaxScaler().fit_transform(X)"
   ]
  },
  {
   "cell_type": "code",
   "execution_count": 89,
   "id": "670b0248",
   "metadata": {},
   "outputs": [
    {
     "data": {
      "text/html": [
       "<div>\n",
       "<style scoped>\n",
       "    .dataframe tbody tr th:only-of-type {\n",
       "        vertical-align: middle;\n",
       "    }\n",
       "\n",
       "    .dataframe tbody tr th {\n",
       "        vertical-align: top;\n",
       "    }\n",
       "\n",
       "    .dataframe thead th {\n",
       "        text-align: right;\n",
       "    }\n",
       "</style>\n",
       "<table border=\"1\" class=\"dataframe\">\n",
       "  <thead>\n",
       "    <tr style=\"text-align: right;\">\n",
       "      <th></th>\n",
       "      <th>num_reactions</th>\n",
       "      <th>num_comments</th>\n",
       "      <th>num_shares</th>\n",
       "      <th>num_likes</th>\n",
       "      <th>num_loves</th>\n",
       "      <th>num_wows</th>\n",
       "      <th>num_hahas</th>\n",
       "      <th>num_sads</th>\n",
       "      <th>num_angrys</th>\n",
       "    </tr>\n",
       "  </thead>\n",
       "  <tbody>\n",
       "    <tr>\n",
       "      <th>0</th>\n",
       "      <td>0.112314</td>\n",
       "      <td>0.024393</td>\n",
       "      <td>0.076519</td>\n",
       "      <td>0.091720</td>\n",
       "      <td>0.140030</td>\n",
       "      <td>0.010791</td>\n",
       "      <td>0.006369</td>\n",
       "      <td>0.019608</td>\n",
       "      <td>0.0</td>\n",
       "    </tr>\n",
       "    <tr>\n",
       "      <th>1</th>\n",
       "      <td>0.031847</td>\n",
       "      <td>0.000000</td>\n",
       "      <td>0.000000</td>\n",
       "      <td>0.031847</td>\n",
       "      <td>0.000000</td>\n",
       "      <td>0.000000</td>\n",
       "      <td>0.000000</td>\n",
       "      <td>0.000000</td>\n",
       "      <td>0.0</td>\n",
       "    </tr>\n",
       "    <tr>\n",
       "      <th>2</th>\n",
       "      <td>0.048195</td>\n",
       "      <td>0.011243</td>\n",
       "      <td>0.016647</td>\n",
       "      <td>0.043312</td>\n",
       "      <td>0.031963</td>\n",
       "      <td>0.003597</td>\n",
       "      <td>0.006369</td>\n",
       "      <td>0.000000</td>\n",
       "      <td>0.0</td>\n",
       "    </tr>\n",
       "    <tr>\n",
       "      <th>3</th>\n",
       "      <td>0.023567</td>\n",
       "      <td>0.000000</td>\n",
       "      <td>0.000000</td>\n",
       "      <td>0.023567</td>\n",
       "      <td>0.000000</td>\n",
       "      <td>0.000000</td>\n",
       "      <td>0.000000</td>\n",
       "      <td>0.000000</td>\n",
       "      <td>0.0</td>\n",
       "    </tr>\n",
       "    <tr>\n",
       "      <th>4</th>\n",
       "      <td>0.045223</td>\n",
       "      <td>0.000000</td>\n",
       "      <td>0.000000</td>\n",
       "      <td>0.043312</td>\n",
       "      <td>0.013699</td>\n",
       "      <td>0.000000</td>\n",
       "      <td>0.000000</td>\n",
       "      <td>0.000000</td>\n",
       "      <td>0.0</td>\n",
       "    </tr>\n",
       "  </tbody>\n",
       "</table>\n",
       "</div>"
      ],
      "text/plain": [
       "   num_reactions  num_comments  num_shares  num_likes  num_loves  num_wows  \\\n",
       "0       0.112314      0.024393    0.076519   0.091720   0.140030  0.010791   \n",
       "1       0.031847      0.000000    0.000000   0.031847   0.000000  0.000000   \n",
       "2       0.048195      0.011243    0.016647   0.043312   0.031963  0.003597   \n",
       "3       0.023567      0.000000    0.000000   0.023567   0.000000  0.000000   \n",
       "4       0.045223      0.000000    0.000000   0.043312   0.013699  0.000000   \n",
       "\n",
       "   num_hahas  num_sads  num_angrys  \n",
       "0   0.006369  0.019608         0.0  \n",
       "1   0.000000  0.000000         0.0  \n",
       "2   0.006369  0.000000         0.0  \n",
       "3   0.000000  0.000000         0.0  \n",
       "4   0.000000  0.000000         0.0  "
      ]
     },
     "execution_count": 89,
     "metadata": {},
     "output_type": "execute_result"
    }
   ],
   "source": [
    "X=pd.DataFrame(X,columns=(df.columns[1:].tolist()))\n",
    "X.head()"
   ]
  },
  {
   "cell_type": "code",
   "execution_count": 19,
   "id": "b606da8c",
   "metadata": {},
   "outputs": [],
   "source": [
    "#importing kmeans\n",
    "from sklearn.cluster import KMeans"
   ]
  },
  {
   "cell_type": "code",
   "execution_count": 20,
   "id": "3c1d7a58",
   "metadata": {},
   "outputs": [
    {
     "data": {
      "image/png": "[encoded data removed]",
      "text/plain": [
       "<Figure size 864x432 with 1 Axes>"
      ]
     },
     "metadata": {
      "needs_background": "light"
     },
     "output_type": "display_data"
    }
   ],
   "source": [
    "wcss=[]\n",
    "for i in range(1,11):\n",
    "    km=KMeans(n_clusters=i)\n",
    "    km.fit(X)\n",
    "    wcss.append(km.inertia_)\n",
    "    \n",
    "#elbow curve\n",
    "plt.figure(figsize=(12,6))\n",
    "plt.plot(range(1,11),wcss)\n",
    "plt.plot(range(1,11),wcss,linewidth=2, color='blue',marker='8')\n",
    "plt.xlabel('K value')\n",
    "plt.xticks(np.arange(1,11,1))\n",
    "plt.ylabel('WCSS')\n",
    "plt.show()\n",
    "         "
   ]
  },
  {
   "cell_type": "markdown",
   "id": "baeec77c",
   "metadata": {},
   "source": [
    "The number of clusters is k=2"
   ]
  },
  {
   "cell_type": "code",
   "execution_count": 21,
   "id": "1c4302bd",
   "metadata": {},
   "outputs": [
    {
     "name": "stdout",
     "output_type": "stream",
     "text": [
      "Silhouette Score:0.813\n"
     ]
    }
   ],
   "source": [
    "#Getting the silhouette scores based on 2 clusters\n",
    "from sklearn.metrics import silhouette_samples,silhouette_score\n",
    "clusterer=KMeans(n_clusters=2)\n",
    "cluster_labels=clusterer.fit_predict(X)\n",
    "score=silhouette_score(X,cluster_labels)\n",
    "print('Silhouette Score:%.3f'% score)"
   ]
  },
  {
   "cell_type": "code",
   "execution_count": 22,
   "id": "a5539fd3",
   "metadata": {},
   "outputs": [
    {
     "name": "stdout",
     "output_type": "stream",
     "text": [
      "For n_clusters= 2 the average silhouette score is: 0.8125263296260059\n",
      "For n_clusters= 3 the average silhouette score is: 0.8186202280538375\n",
      "For n_clusters= 4 the average silhouette score is: 0.6441638843223956\n",
      "For n_clusters= 5 the average silhouette score is: 0.6961774467133425\n",
      "For n_clusters= 6 the average silhouette score is: 0.6197096848338359\n"
     ]
    }
   ],
   "source": [
    "range_n_clusters=[2,3,4,5,6]\n",
    "for n_clusters in range_n_clusters:\n",
    "    clusterer=KMeans(n_clusters=n_clusters)\n",
    "    cluster_labels=clusterer.fit_predict(X)\n",
    "    silhouette_average=silhouette_score(X,cluster_labels)\n",
    "    print('For n_clusters=',n_clusters,'the average silhouette score is:',silhouette_average,)"
   ]
  },
  {
   "cell_type": "markdown",
   "id": "0df38b30",
   "metadata": {},
   "source": [
    "Silhouette analysis has a range of[-1,1] Silhouette coefficients near +1 indicate that the sample is far away from the neighbouring clusters.A value of 0 indicates that the sample is on or very close to the decision boundary between two neighbouring clusters and negative values indicate that the samples might have been assigned to the wrong cluster. Therefore a higher silhouette coefficient score relates to a model with better defined clusters."
   ]
  },
  {
   "cell_type": "code",
   "execution_count": 25,
   "id": "11b0257a",
   "metadata": {},
   "outputs": [],
   "source": [
    "#assigning cluster label to each instance of the dataframe\n",
    "km=KMeans(n_clusters=3).fit(X)\n",
    "cluster_map=pd.DataFrame()\n",
    "cluster_map['data_index']=X.index.values\n",
    "cluster_map['cluster']=km.labels_"
   ]
  },
  {
   "cell_type": "code",
   "execution_count": 26,
   "id": "a4f7d8e3",
   "metadata": {},
   "outputs": [],
   "source": [
    "#filter all datapoints in cluster 1\n",
    "x=cluster_map[cluster_map.cluster == 1]"
   ]
  },
  {
   "cell_type": "code",
   "execution_count": 27,
   "id": "c7c73708",
   "metadata": {},
   "outputs": [
    {
     "data": {
      "text/html": [
       "<div>\n",
       "<style scoped>\n",
       "    .dataframe tbody tr th:only-of-type {\n",
       "        vertical-align: middle;\n",
       "    }\n",
       "\n",
       "    .dataframe tbody tr th {\n",
       "        vertical-align: top;\n",
       "    }\n",
       "\n",
       "    .dataframe thead th {\n",
       "        text-align: right;\n",
       "    }\n",
       "</style>\n",
       "<table border=\"1\" class=\"dataframe\">\n",
       "  <thead>\n",
       "    <tr style=\"text-align: right;\">\n",
       "      <th></th>\n",
       "      <th>data_index</th>\n",
       "      <th>cluster</th>\n",
       "    </tr>\n",
       "  </thead>\n",
       "  <tbody>\n",
       "    <tr>\n",
       "      <th>112</th>\n",
       "      <td>112</td>\n",
       "      <td>1</td>\n",
       "    </tr>\n",
       "    <tr>\n",
       "      <th>166</th>\n",
       "      <td>166</td>\n",
       "      <td>1</td>\n",
       "    </tr>\n",
       "    <tr>\n",
       "      <th>355</th>\n",
       "      <td>355</td>\n",
       "      <td>1</td>\n",
       "    </tr>\n",
       "    <tr>\n",
       "      <th>361</th>\n",
       "      <td>361</td>\n",
       "      <td>1</td>\n",
       "    </tr>\n",
       "    <tr>\n",
       "      <th>726</th>\n",
       "      <td>726</td>\n",
       "      <td>1</td>\n",
       "    </tr>\n",
       "    <tr>\n",
       "      <th>...</th>\n",
       "      <td>...</td>\n",
       "      <td>...</td>\n",
       "    </tr>\n",
       "    <tr>\n",
       "      <th>6266</th>\n",
       "      <td>6266</td>\n",
       "      <td>1</td>\n",
       "    </tr>\n",
       "    <tr>\n",
       "      <th>6270</th>\n",
       "      <td>6270</td>\n",
       "      <td>1</td>\n",
       "    </tr>\n",
       "    <tr>\n",
       "      <th>6271</th>\n",
       "      <td>6271</td>\n",
       "      <td>1</td>\n",
       "    </tr>\n",
       "    <tr>\n",
       "      <th>6272</th>\n",
       "      <td>6272</td>\n",
       "      <td>1</td>\n",
       "    </tr>\n",
       "    <tr>\n",
       "      <th>6297</th>\n",
       "      <td>6297</td>\n",
       "      <td>1</td>\n",
       "    </tr>\n",
       "  </tbody>\n",
       "</table>\n",
       "<p>372 rows × 2 columns</p>\n",
       "</div>"
      ],
      "text/plain": [
       "      data_index  cluster\n",
       "112          112        1\n",
       "166          166        1\n",
       "355          355        1\n",
       "361          361        1\n",
       "726          726        1\n",
       "...          ...      ...\n",
       "6266        6266        1\n",
       "6270        6270        1\n",
       "6271        6271        1\n",
       "6272        6272        1\n",
       "6297        6297        1\n",
       "\n",
       "[372 rows x 2 columns]"
      ]
     },
     "execution_count": 27,
     "metadata": {},
     "output_type": "execute_result"
    }
   ],
   "source": [
    "x"
   ]
  },
  {
   "cell_type": "code",
   "execution_count": 29,
   "id": "0f46a866",
   "metadata": {},
   "outputs": [
    {
     "data": {
      "text/html": [
       "<div>\n",
       "<style scoped>\n",
       "    .dataframe tbody tr th:only-of-type {\n",
       "        vertical-align: middle;\n",
       "    }\n",
       "\n",
       "    .dataframe tbody tr th {\n",
       "        vertical-align: top;\n",
       "    }\n",
       "\n",
       "    .dataframe thead th {\n",
       "        text-align: right;\n",
       "    }\n",
       "</style>\n",
       "<table border=\"1\" class=\"dataframe\">\n",
       "  <thead>\n",
       "    <tr style=\"text-align: right;\">\n",
       "      <th></th>\n",
       "      <th>data_index</th>\n",
       "      <th>cluster</th>\n",
       "    </tr>\n",
       "  </thead>\n",
       "  <tbody>\n",
       "    <tr>\n",
       "      <th>99</th>\n",
       "      <td>99</td>\n",
       "      <td>2</td>\n",
       "    </tr>\n",
       "    <tr>\n",
       "      <th>238</th>\n",
       "      <td>238</td>\n",
       "      <td>2</td>\n",
       "    </tr>\n",
       "    <tr>\n",
       "      <th>343</th>\n",
       "      <td>343</td>\n",
       "      <td>2</td>\n",
       "    </tr>\n",
       "    <tr>\n",
       "      <th>413</th>\n",
       "      <td>413</td>\n",
       "      <td>2</td>\n",
       "    </tr>\n",
       "    <tr>\n",
       "      <th>480</th>\n",
       "      <td>480</td>\n",
       "      <td>2</td>\n",
       "    </tr>\n",
       "    <tr>\n",
       "      <th>...</th>\n",
       "      <td>...</td>\n",
       "      <td>...</td>\n",
       "    </tr>\n",
       "    <tr>\n",
       "      <th>6808</th>\n",
       "      <td>6808</td>\n",
       "      <td>2</td>\n",
       "    </tr>\n",
       "    <tr>\n",
       "      <th>6810</th>\n",
       "      <td>6810</td>\n",
       "      <td>2</td>\n",
       "    </tr>\n",
       "    <tr>\n",
       "      <th>6814</th>\n",
       "      <td>6814</td>\n",
       "      <td>2</td>\n",
       "    </tr>\n",
       "    <tr>\n",
       "      <th>6827</th>\n",
       "      <td>6827</td>\n",
       "      <td>2</td>\n",
       "    </tr>\n",
       "    <tr>\n",
       "      <th>6835</th>\n",
       "      <td>6835</td>\n",
       "      <td>2</td>\n",
       "    </tr>\n",
       "  </tbody>\n",
       "</table>\n",
       "<p>180 rows × 2 columns</p>\n",
       "</div>"
      ],
      "text/plain": [
       "      data_index  cluster\n",
       "99            99        2\n",
       "238          238        2\n",
       "343          343        2\n",
       "413          413        2\n",
       "480          480        2\n",
       "...          ...      ...\n",
       "6808        6808        2\n",
       "6810        6810        2\n",
       "6814        6814        2\n",
       "6827        6827        2\n",
       "6835        6835        2\n",
       "\n",
       "[180 rows x 2 columns]"
      ]
     },
     "execution_count": 29,
     "metadata": {},
     "output_type": "execute_result"
    }
   ],
   "source": [
    "#cluster 2\n",
    "y=cluster_map[cluster_map.cluster == 2]\n",
    "y"
   ]
  },
  {
   "cell_type": "code",
   "execution_count": 30,
   "id": "59ad3c0c",
   "metadata": {},
   "outputs": [
    {
     "data": {
      "text/html": [
       "<div>\n",
       "<style scoped>\n",
       "    .dataframe tbody tr th:only-of-type {\n",
       "        vertical-align: middle;\n",
       "    }\n",
       "\n",
       "    .dataframe tbody tr th {\n",
       "        vertical-align: top;\n",
       "    }\n",
       "\n",
       "    .dataframe thead th {\n",
       "        text-align: right;\n",
       "    }\n",
       "</style>\n",
       "<table border=\"1\" class=\"dataframe\">\n",
       "  <thead>\n",
       "    <tr style=\"text-align: right;\">\n",
       "      <th></th>\n",
       "      <th>data_index</th>\n",
       "      <th>cluster</th>\n",
       "    </tr>\n",
       "  </thead>\n",
       "  <tbody>\n",
       "  </tbody>\n",
       "</table>\n",
       "</div>"
      ],
      "text/plain": [
       "Empty DataFrame\n",
       "Columns: [data_index, cluster]\n",
       "Index: []"
      ]
     },
     "execution_count": 30,
     "metadata": {},
     "output_type": "execute_result"
    }
   ],
   "source": [
    "#cluster 3\n",
    "z=cluster_map[cluster_map.cluster == 3]\n",
    "z"
   ]
  },
  {
   "cell_type": "code",
   "execution_count": 36,
   "id": "55616d37",
   "metadata": {},
   "outputs": [],
   "source": [
    "cluster=KMeans(n_clusters=3)"
   ]
  },
  {
   "cell_type": "code",
   "execution_count": 40,
   "id": "08cd723e",
   "metadata": {},
   "outputs": [
    {
     "data": {
      "text/plain": [
       "array([[2.19286388e-01, 1.64379599e-01, 1.74805296e-01, 1.69190847e-01,\n",
       "        3.00076104e-01, 8.72102318e-02, 6.79759377e-02, 4.48801743e-02,\n",
       "        5.07168459e-02],\n",
       "       [3.87439787e-01, 2.91856849e-03, 4.34080118e-03, 3.86212132e-01,\n",
       "        4.72169032e-03, 8.76073335e-03, 1.24991439e-03, 8.43348092e-04,\n",
       "        1.73430454e-04],\n",
       "       [2.47528065e-02, 6.87617299e-03, 7.59103089e-03, 2.27384680e-02,\n",
       "        1.24370313e-02, 2.11465177e-03, 2.85830231e-03, 3.89260044e-03,\n",
       "        2.54668930e-03]])"
      ]
     },
     "execution_count": 40,
     "metadata": {},
     "output_type": "execute_result"
    }
   ],
   "source": [
    "cluster.cluster_centers_"
   ]
  },
  {
   "cell_type": "markdown",
   "id": "a08c31e5",
   "metadata": {},
   "source": [
    "### Perform PCA"
   ]
  },
  {
   "cell_type": "code",
   "execution_count": 90,
   "id": "700ca06a",
   "metadata": {},
   "outputs": [
    {
     "data": {
      "text/plain": [
       "array([[ 1.02165567e-01,  1.08707054e-01, -2.44453210e-02, ...,\n",
       "        -1.49833408e-02, -3.13047576e-03, -1.91770578e-06],\n",
       "       [-2.67440190e-02, -2.15023005e-02, -1.84029572e-03, ...,\n",
       "        -3.37858930e-04, -7.76821038e-06, -3.12271101e-07],\n",
       "       [ 2.06381178e-04,  1.12106675e-02, -4.78918065e-03, ...,\n",
       "        -5.03009767e-03, -1.48254431e-03, -6.75715645e-07],\n",
       "       ...,\n",
       "       [-7.01095777e-02, -1.12235089e-02, -3.70770926e-03, ...,\n",
       "        -4.26477081e-04, -7.64617561e-04, -3.46079070e-07],\n",
       "       [ 3.30610339e-02, -2.85922302e-02, -2.75306179e-04, ...,\n",
       "        -5.88928351e-04,  3.82059729e-03, -1.70027225e-07],\n",
       "       [-6.58017197e-02, -1.32946992e-02, -3.02005326e-03, ...,\n",
       "        -2.77400201e-04, -8.99729990e-05, -2.92853245e-07]])"
      ]
     },
     "execution_count": 90,
     "metadata": {},
     "output_type": "execute_result"
    }
   ],
   "source": [
    "from sklearn.decomposition import PCA\n",
    "model=PCA(random_state=0)\n",
    "model.fit(X)\n",
    "model.fit_transform(X)"
   ]
  },
  {
   "cell_type": "code",
   "execution_count": 91,
   "id": "a80e3bf4",
   "metadata": {},
   "outputs": [
    {
     "data": {
      "text/html": [
       "<div>\n",
       "<style scoped>\n",
       "    .dataframe tbody tr th:only-of-type {\n",
       "        vertical-align: middle;\n",
       "    }\n",
       "\n",
       "    .dataframe tbody tr th {\n",
       "        vertical-align: top;\n",
       "    }\n",
       "\n",
       "    .dataframe thead th {\n",
       "        text-align: right;\n",
       "    }\n",
       "</style>\n",
       "<table border=\"1\" class=\"dataframe\">\n",
       "  <thead>\n",
       "    <tr style=\"text-align: right;\">\n",
       "      <th></th>\n",
       "      <th>num_reactions</th>\n",
       "      <th>num_comments</th>\n",
       "      <th>num_shares</th>\n",
       "      <th>num_likes</th>\n",
       "      <th>num_loves</th>\n",
       "      <th>num_wows</th>\n",
       "      <th>num_hahas</th>\n",
       "      <th>num_sads</th>\n",
       "      <th>num_angrys</th>\n",
       "    </tr>\n",
       "  </thead>\n",
       "  <tbody>\n",
       "    <tr>\n",
       "      <th>0</th>\n",
       "      <td>0.112314</td>\n",
       "      <td>0.024393</td>\n",
       "      <td>0.076519</td>\n",
       "      <td>0.091720</td>\n",
       "      <td>0.140030</td>\n",
       "      <td>0.010791</td>\n",
       "      <td>0.006369</td>\n",
       "      <td>0.019608</td>\n",
       "      <td>0.0</td>\n",
       "    </tr>\n",
       "    <tr>\n",
       "      <th>1</th>\n",
       "      <td>0.031847</td>\n",
       "      <td>0.000000</td>\n",
       "      <td>0.000000</td>\n",
       "      <td>0.031847</td>\n",
       "      <td>0.000000</td>\n",
       "      <td>0.000000</td>\n",
       "      <td>0.000000</td>\n",
       "      <td>0.000000</td>\n",
       "      <td>0.0</td>\n",
       "    </tr>\n",
       "    <tr>\n",
       "      <th>2</th>\n",
       "      <td>0.048195</td>\n",
       "      <td>0.011243</td>\n",
       "      <td>0.016647</td>\n",
       "      <td>0.043312</td>\n",
       "      <td>0.031963</td>\n",
       "      <td>0.003597</td>\n",
       "      <td>0.006369</td>\n",
       "      <td>0.000000</td>\n",
       "      <td>0.0</td>\n",
       "    </tr>\n",
       "    <tr>\n",
       "      <th>3</th>\n",
       "      <td>0.023567</td>\n",
       "      <td>0.000000</td>\n",
       "      <td>0.000000</td>\n",
       "      <td>0.023567</td>\n",
       "      <td>0.000000</td>\n",
       "      <td>0.000000</td>\n",
       "      <td>0.000000</td>\n",
       "      <td>0.000000</td>\n",
       "      <td>0.0</td>\n",
       "    </tr>\n",
       "    <tr>\n",
       "      <th>4</th>\n",
       "      <td>0.045223</td>\n",
       "      <td>0.000000</td>\n",
       "      <td>0.000000</td>\n",
       "      <td>0.043312</td>\n",
       "      <td>0.013699</td>\n",
       "      <td>0.000000</td>\n",
       "      <td>0.000000</td>\n",
       "      <td>0.000000</td>\n",
       "      <td>0.0</td>\n",
       "    </tr>\n",
       "    <tr>\n",
       "      <th>...</th>\n",
       "      <td>...</td>\n",
       "      <td>...</td>\n",
       "      <td>...</td>\n",
       "      <td>...</td>\n",
       "      <td>...</td>\n",
       "      <td>...</td>\n",
       "      <td>...</td>\n",
       "      <td>...</td>\n",
       "      <td>...</td>\n",
       "    </tr>\n",
       "    <tr>\n",
       "      <th>7045</th>\n",
       "      <td>0.018896</td>\n",
       "      <td>0.000000</td>\n",
       "      <td>0.000000</td>\n",
       "      <td>0.018896</td>\n",
       "      <td>0.000000</td>\n",
       "      <td>0.000000</td>\n",
       "      <td>0.000000</td>\n",
       "      <td>0.000000</td>\n",
       "      <td>0.0</td>\n",
       "    </tr>\n",
       "    <tr>\n",
       "      <th>7046</th>\n",
       "      <td>0.003397</td>\n",
       "      <td>0.000000</td>\n",
       "      <td>0.000000</td>\n",
       "      <td>0.002972</td>\n",
       "      <td>0.001522</td>\n",
       "      <td>0.000000</td>\n",
       "      <td>0.006369</td>\n",
       "      <td>0.000000</td>\n",
       "      <td>0.0</td>\n",
       "    </tr>\n",
       "    <tr>\n",
       "      <th>7047</th>\n",
       "      <td>0.000425</td>\n",
       "      <td>0.000000</td>\n",
       "      <td>0.000000</td>\n",
       "      <td>0.000212</td>\n",
       "      <td>0.001522</td>\n",
       "      <td>0.000000</td>\n",
       "      <td>0.000000</td>\n",
       "      <td>0.000000</td>\n",
       "      <td>0.0</td>\n",
       "    </tr>\n",
       "    <tr>\n",
       "      <th>7048</th>\n",
       "      <td>0.074522</td>\n",
       "      <td>0.000572</td>\n",
       "      <td>0.006425</td>\n",
       "      <td>0.074098</td>\n",
       "      <td>0.003044</td>\n",
       "      <td>0.000000</td>\n",
       "      <td>0.000000</td>\n",
       "      <td>0.000000</td>\n",
       "      <td>0.0</td>\n",
       "    </tr>\n",
       "    <tr>\n",
       "      <th>7049</th>\n",
       "      <td>0.003609</td>\n",
       "      <td>0.000000</td>\n",
       "      <td>0.000000</td>\n",
       "      <td>0.003609</td>\n",
       "      <td>0.000000</td>\n",
       "      <td>0.000000</td>\n",
       "      <td>0.000000</td>\n",
       "      <td>0.000000</td>\n",
       "      <td>0.0</td>\n",
       "    </tr>\n",
       "  </tbody>\n",
       "</table>\n",
       "<p>7050 rows × 9 columns</p>\n",
       "</div>"
      ],
      "text/plain": [
       "      num_reactions  num_comments  num_shares  num_likes  num_loves  num_wows  \\\n",
       "0          0.112314      0.024393    0.076519   0.091720   0.140030  0.010791   \n",
       "1          0.031847      0.000000    0.000000   0.031847   0.000000  0.000000   \n",
       "2          0.048195      0.011243    0.016647   0.043312   0.031963  0.003597   \n",
       "3          0.023567      0.000000    0.000000   0.023567   0.000000  0.000000   \n",
       "4          0.045223      0.000000    0.000000   0.043312   0.013699  0.000000   \n",
       "...             ...           ...         ...        ...        ...       ...   \n",
       "7045       0.018896      0.000000    0.000000   0.018896   0.000000  0.000000   \n",
       "7046       0.003397      0.000000    0.000000   0.002972   0.001522  0.000000   \n",
       "7047       0.000425      0.000000    0.000000   0.000212   0.001522  0.000000   \n",
       "7048       0.074522      0.000572    0.006425   0.074098   0.003044  0.000000   \n",
       "7049       0.003609      0.000000    0.000000   0.003609   0.000000  0.000000   \n",
       "\n",
       "      num_hahas  num_sads  num_angrys  \n",
       "0      0.006369  0.019608         0.0  \n",
       "1      0.000000  0.000000         0.0  \n",
       "2      0.006369  0.000000         0.0  \n",
       "3      0.000000  0.000000         0.0  \n",
       "4      0.000000  0.000000         0.0  \n",
       "...         ...       ...         ...  \n",
       "7045   0.000000  0.000000         0.0  \n",
       "7046   0.006369  0.000000         0.0  \n",
       "7047   0.000000  0.000000         0.0  \n",
       "7048   0.000000  0.000000         0.0  \n",
       "7049   0.000000  0.000000         0.0  \n",
       "\n",
       "[7050 rows x 9 columns]"
      ]
     },
     "execution_count": 91,
     "metadata": {},
     "output_type": "execute_result"
    }
   ],
   "source": [
    "transformed=model.transform(X)\n",
    "X"
   ]
  },
  {
   "cell_type": "code",
   "execution_count": 94,
   "id": "1947f71b",
   "metadata": {},
   "outputs": [
    {
     "data": {
      "text/plain": [
       "Text(0.5, 1.0, 'Distribution of Status type')"
      ]
     },
     "execution_count": 94,
     "metadata": {},
     "output_type": "execute_result"
    },
    {
     "data": {
      "image/png": "[encoded data removed]",
      "text/plain": [
       "<Figure size 864x720 with 1 Axes>"
      ]
     },
     "metadata": {
      "needs_background": "light"
     },
     "output_type": "display_data"
    }
   ],
   "source": [
    "plt.figure(figsize=(12,10))\n",
    "sns.scatterplot(x=transformed[:,3],y=transformed[:,4],hue=df['status_type'])\n",
    "plt.title(\"Distribution of Status type\")"
   ]
  },
  {
   "cell_type": "markdown",
   "id": "8b6c6774",
   "metadata": {},
   "source": [
    "### Using Stochastic Neighbor Embedding"
   ]
  },
  {
   "cell_type": "code",
   "execution_count": 95,
   "id": "6002ec1c",
   "metadata": {},
   "outputs": [],
   "source": [
    "from sklearn.manifold import TSNE\n",
    "tsne=TSNE(n_components=2,random_state=0).fit(X)"
   ]
  },
  {
   "cell_type": "code",
   "execution_count": 97,
   "id": "54119302",
   "metadata": {},
   "outputs": [
    {
     "data": {
      "text/plain": [
       "<AxesSubplot:title={'center':'The distribution of Stochastic Neighbor Embedding'}>"
      ]
     },
     "execution_count": 97,
     "metadata": {},
     "output_type": "execute_result"
    },
    {
     "data": {
      "image/png": "[encoded data removed]",
      "text/plain": [
       "<Figure size 576x360 with 1 Axes>"
      ]
     },
     "metadata": {
      "needs_background": "light"
     },
     "output_type": "display_data"
    }
   ],
   "source": [
    "plt.figure(figsize=(8,5))\n",
    "plt.title('The distribution of Stochastic Neighbor Embedding')\n",
    "sns.scatterplot(x=transformed[:,1],y=transformed[:,0],hue=df['status_type'])"
   ]
  },
  {
   "cell_type": "markdown",
   "id": "3a6019f8",
   "metadata": {},
   "source": [
    "## Task 3:Perform PCA"
   ]
  },
  {
   "cell_type": "code",
   "execution_count": 58,
   "id": "3eef2aa8",
   "metadata": {},
   "outputs": [],
   "source": [
    "#import libraries\n",
    "import numpy as np\n",
    "import matplotlib.pyplot as plt\n",
    "from sklearn.decomposition import PCA\n",
    "import matplotlib.cm as cm"
   ]
  },
  {
   "cell_type": "code",
   "execution_count": 60,
   "id": "c5af5990",
   "metadata": {},
   "outputs": [],
   "source": [
    "data=pd.read_csv('https://raw.githubusercontent.com/dphi-official/Datasets/master/fruit_data.csv')"
   ]
  },
  {
   "cell_type": "code",
   "execution_count": 61,
   "id": "abde08f8",
   "metadata": {},
   "outputs": [
    {
     "data": {
      "text/html": [
       "<div>\n",
       "<style scoped>\n",
       "    .dataframe tbody tr th:only-of-type {\n",
       "        vertical-align: middle;\n",
       "    }\n",
       "\n",
       "    .dataframe tbody tr th {\n",
       "        vertical-align: top;\n",
       "    }\n",
       "\n",
       "    .dataframe thead th {\n",
       "        text-align: right;\n",
       "    }\n",
       "</style>\n",
       "<table border=\"1\" class=\"dataframe\">\n",
       "  <thead>\n",
       "    <tr style=\"text-align: right;\">\n",
       "      <th></th>\n",
       "      <th>fruit_label</th>\n",
       "      <th>mass</th>\n",
       "      <th>width</th>\n",
       "      <th>height</th>\n",
       "      <th>color_score</th>\n",
       "    </tr>\n",
       "  </thead>\n",
       "  <tbody>\n",
       "    <tr>\n",
       "      <th>0</th>\n",
       "      <td>1</td>\n",
       "      <td>192</td>\n",
       "      <td>8.4</td>\n",
       "      <td>7.3</td>\n",
       "      <td>0.55</td>\n",
       "    </tr>\n",
       "    <tr>\n",
       "      <th>1</th>\n",
       "      <td>1</td>\n",
       "      <td>180</td>\n",
       "      <td>8.0</td>\n",
       "      <td>6.8</td>\n",
       "      <td>0.59</td>\n",
       "    </tr>\n",
       "    <tr>\n",
       "      <th>2</th>\n",
       "      <td>1</td>\n",
       "      <td>176</td>\n",
       "      <td>7.4</td>\n",
       "      <td>7.2</td>\n",
       "      <td>0.60</td>\n",
       "    </tr>\n",
       "    <tr>\n",
       "      <th>3</th>\n",
       "      <td>2</td>\n",
       "      <td>86</td>\n",
       "      <td>6.2</td>\n",
       "      <td>4.7</td>\n",
       "      <td>0.80</td>\n",
       "    </tr>\n",
       "    <tr>\n",
       "      <th>4</th>\n",
       "      <td>2</td>\n",
       "      <td>84</td>\n",
       "      <td>6.0</td>\n",
       "      <td>4.6</td>\n",
       "      <td>0.79</td>\n",
       "    </tr>\n",
       "  </tbody>\n",
       "</table>\n",
       "</div>"
      ],
      "text/plain": [
       "   fruit_label  mass  width  height  color_score\n",
       "0            1   192    8.4     7.3         0.55\n",
       "1            1   180    8.0     6.8         0.59\n",
       "2            1   176    7.4     7.2         0.60\n",
       "3            2    86    6.2     4.7         0.80\n",
       "4            2    84    6.0     4.6         0.79"
      ]
     },
     "execution_count": 61,
     "metadata": {},
     "output_type": "execute_result"
    }
   ],
   "source": [
    "data.head()"
   ]
  },
  {
   "cell_type": "code",
   "execution_count": 64,
   "id": "901d9017",
   "metadata": {},
   "outputs": [
    {
     "data": {
      "text/plain": [
       "(59, 5)"
      ]
     },
     "execution_count": 64,
     "metadata": {},
     "output_type": "execute_result"
    }
   ],
   "source": [
    "X=data.values\n",
    "X.shape #feature matrix"
   ]
  },
  {
   "cell_type": "code",
   "execution_count": 75,
   "id": "6457262a",
   "metadata": {},
   "outputs": [],
   "source": [
    "#Standardize\n",
    "from sklearn.preprocessing import StandardScaler\n",
    "scaler=StandardScaler(with_mean=False,with_std=False)\n",
    "scaler.fit(X)\n",
    "x_scaled=scaler.transform(X)"
   ]
  },
  {
   "cell_type": "code",
   "execution_count": 76,
   "id": "6c5caba0",
   "metadata": {},
   "outputs": [],
   "source": [
    "#find first 2 principal components using PCA\n",
    "pca_2=PCA(n_components=2,random_state=0)\n",
    "pca_2.fit(x_scaled)\n",
    "X_pca_2=pca_2.transform(x_scaled)"
   ]
  },
  {
   "cell_type": "code",
   "execution_count": 77,
   "id": "37afd577",
   "metadata": {},
   "outputs": [],
   "source": [
    "#find  4 principal components using PCA\n",
    "pca_4=PCA(n_components=4,random_state=0)\n",
    "pca_4.fit(x_scaled)\n",
    "X_pca_4=pca_4.transform(x_scaled)"
   ]
  },
  {
   "cell_type": "code",
   "execution_count": 80,
   "id": "26058642",
   "metadata": {},
   "outputs": [
    {
     "data": {
      "text/plain": [
       "array([9.99082568e+01, 7.21661472e-02, 1.68906865e-02, 2.53120051e-03])"
      ]
     },
     "execution_count": 80,
     "metadata": {},
     "output_type": "execute_result"
    }
   ],
   "source": [
    "#explained variance ratio\n",
    "pca_4.explained_variance_ratio_*100"
   ]
  },
  {
   "cell_type": "code",
   "execution_count": 81,
   "id": "bdabc9f7",
   "metadata": {},
   "outputs": [
    {
     "data": {
      "image/png": "[encoded data removed]",
      "text/plain": [
       "<Figure size 432x288 with 1 Axes>"
      ]
     },
     "metadata": {
      "needs_background": "light"
     },
     "output_type": "display_data"
    }
   ],
   "source": [
    "#plot of variance ratio\n",
    "np.cumsum(pca_4.explained_variance_ratio_*100)\n",
    "plt.plot(np.cumsum(pca_4.explained_variance_ratio_))\n",
    "plt.xlabel('Number of components')\n",
    "plt.ylabel('Explained variance')\n",
    "plt.show()"
   ]
  },
  {
   "cell_type": "code",
   "execution_count": null,
   "id": "b79c1187",
   "metadata": {},
   "outputs": [],
   "source": []
  }
 ],
 "metadata": {
  "kernelspec": {
   "display_name": "Python 3 (ipykernel)",
   "language": "python",
   "name": "python3"
  },
  "language_info": {
   "codemirror_mode": {
    "name": "ipython",
    "version": 3
   },
   "file_extension": ".py",
   "mimetype": "text/x-python",
   "name": "python",
   "nbconvert_exporter": "python",
   "pygments_lexer": "ipython3",
   "version": "3.9.7"
  }
 },
 "nbformat": 4,
 "nbformat_minor": 5
}
